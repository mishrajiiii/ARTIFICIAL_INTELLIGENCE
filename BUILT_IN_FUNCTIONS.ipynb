{
 "cells": [
  {
   "cell_type": "code",
   "execution_count": 2,
   "id": "ad71cc29",
   "metadata": {},
   "outputs": [
    {
     "name": "stdout",
     "output_type": "stream",
     "text": [
      "Analytics Vidhya is the Largest Data Science Community over whole world\n"
     ]
    }
   ],
   "source": [
    "#print( ) function\n",
    "print(\"Analytics Vidhya is the Largest Data Science Community over whole world\")"
   ]
  },
  {
   "cell_type": "code",
   "execution_count": 3,
   "id": "5a8e5607",
   "metadata": {},
   "outputs": [
    {
     "name": "stdout",
     "output_type": "stream",
     "text": [
      "<class 'tuple'>\n"
     ]
    }
   ],
   "source": [
    "#type( ) function\n",
    "list_of_fruits = ('apple', 'banana', 'cherry', 'mango')\n",
    "print(type(list_of_fruits))\n"
   ]
  },
  {
   "cell_type": "code",
   "execution_count": 4,
   "id": "dde03f32",
   "metadata": {},
   "outputs": [
    {
     "name": "stdout",
     "output_type": "stream",
     "text": [
      "Enter your name:HARSH\n",
      "Hello, HARSH to Analytics Vidhya\n"
     ]
    }
   ],
   "source": [
    "#input( ) function\n",
    "a = input('Enter your name:')\n",
    "print('Hello, ' + a + ' to Analytics Vidhya')"
   ]
  },
  {
   "cell_type": "code",
   "execution_count": 5,
   "id": "60b2542d",
   "metadata": {},
   "outputs": [
    {
     "name": "stdout",
     "output_type": "stream",
     "text": [
      "676\n"
     ]
    }
   ],
   "source": [
    "#abs( ) function\n",
    "negative_number  = -676\n",
    "print(abs(negative_number))"
   ]
  },
  {
   "cell_type": "code",
   "execution_count": 6,
   "id": "9c265230",
   "metadata": {},
   "outputs": [
    {
     "name": "stdout",
     "output_type": "stream",
     "text": [
      "81\n"
     ]
    }
   ],
   "source": [
    "#pow( ) function\n",
    "x = pow(3, 4)\n",
    "print(x)"
   ]
  },
  {
   "cell_type": "code",
   "execution_count": 7,
   "id": "5d6d07e5",
   "metadata": {},
   "outputs": [
    {
     "name": "stdout",
     "output_type": "stream",
     "text": [
      "['__class__', '__delattr__', '__dict__', '__dir__', '__doc__', '__eq__', '__format__', '__ge__', '__getattribute__', '__gt__', '__hash__', '__init__', '__init_subclass__', '__le__', '__lt__', '__module__', '__ne__', '__new__', '__reduce__', '__reduce_ex__', '__repr__', '__setattr__', '__sizeof__', '__str__', '__subclasshook__', '__weakref__', 'age', 'country', 'education', 'name']\n"
     ]
    }
   ],
   "source": [
    "#dir( ) function\n",
    "class Person:\n",
    "  name = \"Chirag Goyal\"\n",
    "  age = 19\n",
    "  country = \"India\"\n",
    "  education = \"IIT Jodhpur\"\n",
    "print(dir(Person))"
   ]
  },
  {
   "cell_type": "code",
   "execution_count": 8,
   "id": "4a0e3bf7",
   "metadata": {},
   "outputs": [
    {
     "name": "stdout",
     "output_type": "stream",
     "text": [
      "['a', 'b', 'c', 'd', 'e', 'f', 'g', 'h']\n"
     ]
    }
   ],
   "source": [
    "#sorted( ) function\n",
    "tuple = (\"h\", \"b\", \"a\", \"c\", \"f\", \"d\", \"e\", \"g\")\n",
    "print(sorted(tuple))"
   ]
  },
  {
   "cell_type": "code",
   "execution_count": 9,
   "id": "1a26daa5",
   "metadata": {},
   "outputs": [
    {
     "name": "stdout",
     "output_type": "stream",
     "text": [
      "Kshitiz\n"
     ]
    }
   ],
   "source": [
    "#max( ) function\n",
    "names_tuple = ('Chirag', 'Kshitiz', 'Dinesh', 'Kartik')\n",
    "print(max(names_tuple))"
   ]
  },
  {
   "cell_type": "code",
   "execution_count": null,
   "id": "a22bbcac",
   "metadata": {},
   "outputs": [],
   "source": []
  }
 ],
 "metadata": {
  "kernelspec": {
   "display_name": "Python 3 (ipykernel)",
   "language": "python",
   "name": "python3"
  },
  "language_info": {
   "codemirror_mode": {
    "name": "ipython",
    "version": 3
   },
   "file_extension": ".py",
   "mimetype": "text/x-python",
   "name": "python",
   "nbconvert_exporter": "python",
   "pygments_lexer": "ipython3",
   "version": "3.9.7"
  }
 },
 "nbformat": 4,
 "nbformat_minor": 5
}
